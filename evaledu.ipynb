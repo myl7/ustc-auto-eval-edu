{
 "cells": [
  {
   "cell_type": "code",
   "execution_count": 1,
   "metadata": {},
   "outputs": [],
   "source": [
    "from time import sleep\n",
    "\n",
    "from selenium import webdriver\n",
    "from selenium.webdriver.support.ui import WebDriverWait\n",
    "from selenium.webdriver.support import expected_conditions as EC\n",
    "from selenium.webdriver.common.by import By\n",
    "from selenium.common.exceptions import NoSuchElementException\n"
   ]
  },
  {
   "cell_type": "code",
   "execution_count": 2,
   "metadata": {},
   "outputs": [],
   "source": [
    "# Required info\n",
    "username: str = ''\n",
    "password: str = ''\n"
   ]
  },
  {
   "cell_type": "code",
   "execution_count": 3,
   "metadata": {},
   "outputs": [],
   "source": [
    "# Go to the login page\n",
    "a = webdriver.Chrome()\n",
    "a.get('https://jw.ustc.edu.cn')\n",
    "a.find_element_by_id('login-unified-wrapper').click()\n"
   ]
  },
  {
   "cell_type": "code",
   "execution_count": 4,
   "metadata": {},
   "outputs": [],
   "source": [
    "# Login\n",
    "a.find_element_by_id('username').send_keys(username)\n",
    "a.find_element_by_id('password').send_keys(password)\n",
    "a.find_element_by_id('login').click()\n"
   ]
  },
  {
   "cell_type": "code",
   "execution_count": 5,
   "metadata": {},
   "outputs": [],
   "source": [
    "# Go to the index page\n",
    "a.get('https://jw.ustc.edu.cn/for-std/evaluation/summative')\n",
    "sleep(5)\n",
    "next(filter(lambda x: x.text == '关闭', a.find_elements_by_css_selector('button'))).click()\n"
   ]
  },
  {
   "cell_type": "code",
   "execution_count": 6,
   "metadata": {},
   "outputs": [],
   "source": [
    "# Work on everyone\n",
    "while True:\n",
    "    # Get the next one\n",
    "    try:\n",
    "        elem = a.find_element_by_css_selector('a[title=点击开始评教]')\n",
    "    except NoSuchElementException:\n",
    "        break\n",
    "    print('Work on ' + elem.text)\n",
    "\n",
    "    # Work on selection\n",
    "    elem.click()\n",
    "    WebDriverWait(a, 60).until(EC.presence_of_element_located((By.CSS_SELECTOR, 'label[role=radio]')))\n",
    "    b = filter(\n",
    "        lambda x: x.text in [\n",
    "            '优秀', '19-21', '愿意', '全部', '非常认真', '非常充分', '非常扎实', '非常清晰', '非常同意'\n",
    "        ],\n",
    "        a.find_elements_by_css_selector('label[role=radio]')\n",
    "    )\n",
    "\n",
    "    # Work on input box\n",
    "    for i in b:\n",
    "        i.click()\n",
    "    try:\n",
    "        a.find_element_by_tag_name('textarea').send_keys('无')\n",
    "    except NoSuchElementException:\n",
    "        pass\n",
    "    \n",
    "    # Submit\n",
    "    # There may be limitation of rate.\n",
    "    # Just wait for a moment and then click by hand,\n",
    "    # The loop will continue.\n",
    "    next(filter(lambda x: x.text == '匿名提交', a.find_elements_by_css_selector('button'))).click()\n",
    "    WebDriverWait(a, 60).until(EC.presence_of_element_located((By.CSS_SELECTOR, 'a[title=点击开始评教]')))\n"
   ]
  }
 ],
 "metadata": {
  "kernelspec": {
   "display_name": "Python 3",
   "language": "python",
   "name": "python3"
  },
  "language_info": {
   "codemirror_mode": {
    "name": "ipython",
    "version": 3
   },
   "file_extension": ".py",
   "mimetype": "text/x-python",
   "name": "python",
   "nbconvert_exporter": "python",
   "pygments_lexer": "ipython3",
   "version": "3.8.1"
  }
 },
 "nbformat": 4,
 "nbformat_minor": 4
}
